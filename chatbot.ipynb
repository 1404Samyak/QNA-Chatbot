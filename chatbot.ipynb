{
 "cells": [
  {
   "cell_type": "code",
   "execution_count": 19,
   "metadata": {},
   "outputs": [],
   "source": [
    "from langchain_core.output_parsers import StrOutputParser\n",
    "from langchain_core.prompts import ChatPromptTemplate"
   ]
  },
  {
   "cell_type": "code",
   "execution_count": 20,
   "metadata": {},
   "outputs": [
    {
     "data": {
      "text/plain": [
       "True"
      ]
     },
     "execution_count": 20,
     "metadata": {},
     "output_type": "execute_result"
    }
   ],
   "source": [
    "import os\n",
    "from dotenv import load_dotenv\n",
    "load_dotenv()"
   ]
  },
  {
   "cell_type": "code",
   "execution_count": 21,
   "metadata": {},
   "outputs": [],
   "source": [
    "os.environ[\"LANGCHAIN_API_KEY\"]=os.getenv(\"LANGCHAIN_API_KEY\")\n",
    "os.environ[\"GROQ_API_KEY\"]=os.getenv(\"GROQ_API_KEY\")\n",
    "os.environ[\"LANGCHAIN_TRACING_V2\"]=\"true\"\n",
    "os.environ[\"LANGCHAIN_PROJECT\"]=\"QNA-Chatbot\"\n",
    "# print(langchain_api_key,groq_api_key)\n"
   ]
  },
  {
   "cell_type": "code",
   "execution_count": 22,
   "metadata": {},
   "outputs": [
    {
     "data": {
      "text/plain": [
       "ChatGroq(client=<groq.resources.chat.completions.Completions object at 0x0000019A6C893B30>, async_client=<groq.resources.chat.completions.AsyncCompletions object at 0x0000019A6C8CD0D0>, model_name='Gemma2-9b-It', model_kwargs={}, groq_api_key=SecretStr('**********'))"
      ]
     },
     "execution_count": 22,
     "metadata": {},
     "output_type": "execute_result"
    }
   ],
   "source": [
    "from langchain_groq import ChatGroq\n",
    "model=ChatGroq(model=\"Gemma2-9b-It\")\n",
    "model"
   ]
  },
  {
   "cell_type": "code",
   "execution_count": 23,
   "metadata": {},
   "outputs": [
    {
     "data": {
      "text/plain": [
       "[SystemMessage(content='You are a wonderful assistant and pls respond to the queries of the user', additional_kwargs={}, response_metadata={}),\n",
       " HumanMessage(content='QuestionWhat is generative ai', additional_kwargs={}, response_metadata={})]"
      ]
     },
     "execution_count": 23,
     "metadata": {},
     "output_type": "execute_result"
    }
   ],
   "source": [
    "prompt_template=ChatPromptTemplate.from_messages(\n",
    "    [(\"system\",\"You are a wonderful assistant and pls respond to the queries of the user\"),(\"user\",\"Question{question}\")]\n",
    ")\n",
    "result=prompt_template.invoke({\"question\":\"What is generative ai\"})\n",
    "result.to_messages()\n"
   ]
  },
  {
   "cell_type": "code",
   "execution_count": 24,
   "metadata": {},
   "outputs": [
    {
     "data": {
      "text/plain": [
       "\"You're very kind! 😊 \\n\\nGenerative AI is a type of artificial intelligence that focuses on creating new content.  \\n\\nThink of it like this:\\n\\n* **Traditional AI:**  Analyzes existing data to make predictions or decisions (e.g., recommending a movie you might like based on your past watch history).\\n* **Generative AI:** Learns patterns from data and uses that knowledge to produce original content (e.g., writing a poem, composing music, generating an image).\\n\\n**Here are some key things to know about generative AI:**\\n\\n* **It's powered by deep learning:**  Generative AI models are trained on massive datasets using complex algorithms called neural networks.\\n* **It can create various types of content:** Text, images, audio, video, code, and even 3D models are all within its capabilities.\\n* **Examples of generative AI:**\\n    * **Text:** ChatGPT, Jasper, Bard\\n    * **Images:** DALL-E 2, Midjourney, Stable Diffusion\\n    * **Audio:** Jukebox, Amper Music\\n    * **Code:** GitHub Copilot\\n\\n**Generative AI is rapidly advancing and has the potential to revolutionize many industries, including:**\\n\\n* **Art and design:** Creating unique artwork, generating design concepts.\\n* **Entertainment:** Writing scripts, composing music, designing video game levels.\\n* **Marketing and advertising:**  Generating personalized content, creating engaging ad campaigns.\\n* **Education:**  Developing interactive learning experiences, providing personalized tutoring.\\n\\nLet me know if you have any other questions about generative AI!  \\n\\n\""
      ]
     },
     "execution_count": 24,
     "metadata": {},
     "output_type": "execute_result"
    }
   ],
   "source": [
    "parser=StrOutputParser()\n",
    "chain=prompt_template|model|parser\n",
    "response=chain.invoke({\"question\":\"What is generative ai\"})\n",
    "response"
   ]
  },
  {
   "cell_type": "code",
   "execution_count": null,
   "metadata": {},
   "outputs": [],
   "source": []
  }
 ],
 "metadata": {
  "kernelspec": {
   "display_name": "mygen",
   "language": "python",
   "name": "python3"
  },
  "language_info": {
   "codemirror_mode": {
    "name": "ipython",
    "version": 3
   },
   "file_extension": ".py",
   "mimetype": "text/x-python",
   "name": "python",
   "nbconvert_exporter": "python",
   "pygments_lexer": "ipython3",
   "version": "3.12.5"
  }
 },
 "nbformat": 4,
 "nbformat_minor": 2
}
